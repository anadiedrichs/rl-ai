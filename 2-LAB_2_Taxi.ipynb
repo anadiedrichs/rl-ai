{
  "nbformat": 4,
  "nbformat_minor": 0,
  "metadata": {
    "colab": {
      "name": "LAB-2-Taxi.ipynb",
      "version": "0.3.2",
      "provenance": [],
      "collapsed_sections": [],
      "include_colab_link": true
    },
    "kernelspec": {
      "name": "python3",
      "display_name": "Python 3"
    },
    "accelerator": "GPU"
  },
  "cells": [
    {
      "cell_type": "markdown",
      "metadata": {
        "id": "view-in-github",
        "colab_type": "text"
      },
      "source": [
        "<a href=\"https://colab.research.google.com/github/anadiedrichs/rl-ai/blob/master/2-LAB_2_Taxi.ipynb\" target=\"_parent\"><img src=\"https://colab.research.google.com/assets/colab-badge.svg\" alt=\"Open In Colab\"/></a>"
      ]
    },
    {
      "cell_type": "markdown",
      "metadata": {
        "id": "HnL9hNPERI6_",
        "colab_type": "text"
      },
      "source": [
        "# Laboratorio #2 de Aprendizaje por refuerzo - Inteligencia Artificial - DISI 2019\n"
      ]
    },
    {
      "cell_type": "markdown",
      "metadata": {
        "id": "zuIiY5q7RWOG",
        "colab_type": "text"
      },
      "source": [
        "**Realizado por: Ing. Ana Laura Diedrichs**\n",
        "\n",
        "Consultas: lunes 19 hs en sala consulta de sistemas.\n",
        "\n",
        "Contacto por otros horarios de consulta o dudas: \n",
        "* Email ana.diedrichs@frm.utn.edu.ar\n",
        "* Telegram  @anadiedrichs\n",
        "* en el grupo de la materia por dudas generales\n",
        "\n",
        "## Objetivos del laboratorio:\n",
        "\n",
        "* Mediante un problema de juguete evaluar las diferencias entre el comportamiento aleatorio de un agente y su comportamiento con aprendizaje por refuerzo\n",
        "* Comprensión del funcionamiento de Q-learning\n",
        "* Evaluación de hiperparámetros alfa, gamma y epsilon en Q-learning.\n",
        "* Ser una entrada en calor o training del uso del entorno colab.research.google.com\n",
        "\n",
        "## Pre-requisitos o pre-condiciones\n",
        "* Tener una cuenta google (gmail)\n",
        "* Tener instalado el navegador google chrome \n",
        "* Contar con conectividad a internet \n",
        "\n"
      ]
    },
    {
      "cell_type": "markdown",
      "metadata": {
        "id": "KUYmBoiufH2c",
        "colab_type": "text"
      },
      "source": [
        "# Entrega y uso de este laboratorio"
      ]
    },
    {
      "cell_type": "markdown",
      "metadata": {
        "id": "nP0mcOHhfL3o",
        "colab_type": "text"
      },
      "source": [
        "**USO**\n",
        "\n",
        "* Antes que cualquier cosa,  cree una copia de este notebook: Click en *File*, luego *Save a Copy in Drive*\n",
        "* Renombre el archivo con el siguiente formato: APELLIDO_LEGAJO_titulonotebook.ipynb \n",
        "Ejemplo: DIEDRICHS_99999_Cab-taxi-problem.ipynb\n",
        "* Use el notebook, complete las actividades del final. \n",
        "* Este laboratorio es una actividad individual.\n",
        "\n",
        "\n",
        "**ENTREGA**\n",
        "\n",
        "* Una vez finalizado el laboratorio, complete [el formulario de entrega](https://forms.gle/AqdeVPA38chsJqR99)  indicando:\n",
        " * Apellido\n",
        " * Nombre\n",
        " * Nro Legajo\n",
        " * Turno (tarde o noche)\n",
        " * link de su notebook. El mismo se obtiene si realiza click en *Share* (esquina superior derecha) y luego en *Get shareable link* \n",
        " \n",
        " \n",
        " No se aceptarán otras formas de entrega distintas a la mencionada.\n",
        " \n",
        " \n",
        " Fecha límite de entrega: se indicará en clase o por la lista de correos. Última semana de clases es la entrega."
      ]
    },
    {
      "cell_type": "markdown",
      "metadata": {
        "id": "tznv9desR3Va",
        "colab_type": "text"
      },
      "source": [
        "# Introducción\n",
        "\n",
        "Vamos a trabajar utilizando este notebook y una librería llamada OpenAI (https://gym.openai.com/) y realizaremos simulaciones de aprendizaje por refuerzo.\n",
        "\n",
        "Ejecute los siguientes dos bloques de código (click en la flechita a la izquierda del bloque de código).\n",
        "\n",
        "Primero instalamos las librerías necesarias necesarias."
      ]
    },
    {
      "cell_type": "code",
      "metadata": {
        "id": "0sALMHPwGESj",
        "colab_type": "code",
        "outputId": "49c26566-a029-4c26-d863-a92bce8b0af6",
        "colab": {
          "base_uri": "https://localhost:8080/",
          "height": 241
        }
      },
      "source": [
        "!pip install cmake 'gym' scipy"
      ],
      "execution_count": 0,
      "outputs": [
        {
          "output_type": "stream",
          "text": [
            "Requirement already satisfied: cmake in /usr/local/lib/python3.6/dist-packages (3.12.0)\n",
            "Requirement already satisfied: gym in /usr/local/lib/python3.6/dist-packages (0.10.11)\n",
            "Requirement already satisfied: scipy in /usr/local/lib/python3.6/dist-packages (1.3.0)\n",
            "Requirement already satisfied: requests>=2.0 in /usr/local/lib/python3.6/dist-packages (from gym) (2.21.0)\n",
            "Requirement already satisfied: numpy>=1.10.4 in /usr/local/lib/python3.6/dist-packages (from gym) (1.16.4)\n",
            "Requirement already satisfied: pyglet>=1.2.0 in /usr/local/lib/python3.6/dist-packages (from gym) (1.3.2)\n",
            "Requirement already satisfied: six in /usr/local/lib/python3.6/dist-packages (from gym) (1.12.0)\n",
            "Requirement already satisfied: urllib3<1.25,>=1.21.1 in /usr/local/lib/python3.6/dist-packages (from requests>=2.0->gym) (1.24.3)\n",
            "Requirement already satisfied: idna<2.9,>=2.5 in /usr/local/lib/python3.6/dist-packages (from requests>=2.0->gym) (2.8)\n",
            "Requirement already satisfied: chardet<3.1.0,>=3.0.2 in /usr/local/lib/python3.6/dist-packages (from requests>=2.0->gym) (3.0.4)\n",
            "Requirement already satisfied: certifi>=2017.4.17 in /usr/local/lib/python3.6/dist-packages (from requests>=2.0->gym) (2019.3.9)\n",
            "Requirement already satisfied: future in /usr/local/lib/python3.6/dist-packages (from pyglet>=1.2.0->gym) (0.16.0)\n"
          ],
          "name": "stdout"
        }
      ]
    },
    {
      "cell_type": "code",
      "metadata": {
        "id": "lkTmxV76OQw6",
        "colab_type": "code",
        "colab": {}
      },
      "source": [
        "# este es un comentario en el código\n",
        "import gym # importa librería gym\n",
        "import pandas as pd # carga la librería pandas y la llamaremos como pd\n",
        "import matplotlib.pyplot as plt # carga la librería pyplot y la llamaremos de forma abreviada como plt\n",
        "\n"
      ],
      "execution_count": 0,
      "outputs": []
    },
    {
      "cell_type": "markdown",
      "metadata": {
        "id": "Lj5OREewGX-g",
        "colab_type": "text"
      },
      "source": [
        "## Descripción del ambiente\n"
      ]
    },
    {
      "cell_type": "markdown",
      "metadata": {
        "id": "v5H-bEnqSUNT",
        "colab_type": "text"
      },
      "source": [
        "El siguiente bloque de código crea el ambiente **Taxi**, del inglés *environment* y su abreviatura *env*.\n"
      ]
    },
    {
      "cell_type": "code",
      "metadata": {
        "id": "Fz1iwEzCGFBw",
        "colab_type": "code",
        "outputId": "6f1915a3-f997-402a-da1d-91542701cc8e",
        "colab": {
          "base_uri": "https://localhost:8080/",
          "height": 153
        }
      },
      "source": [
        "env = gym.make(\"Taxi-v2\").env # crea / instancia ambiente llamado Taxi-v2\n",
        "\n",
        "env.render() # nos muestra una imagen de como luce el ambiente."
      ],
      "execution_count": 0,
      "outputs": [
        {
          "output_type": "stream",
          "text": [
            "+---------+\n",
            "|R: | : :\u001b[35mG\u001b[0m|\n",
            "| : : : : |\n",
            "| : : : : |\n",
            "| | : | : |\n",
            "|\u001b[34;1mY\u001b[0m|\u001b[43m \u001b[0m: |B: |\n",
            "+---------+\n",
            "\n"
          ],
          "name": "stdout"
        }
      ]
    },
    {
      "cell_type": "markdown",
      "metadata": {
        "id": "8nR8P6uXDkcI",
        "colab_type": "text"
      },
      "source": [
        "\n",
        "* El trabajo del agente es recoger un pasajero de una ubicación y llevarlo a un destino. \n",
        "* Se reciben +20 puntos por llevarlo al destino indicado y se pierte un punto por cada paso realizado (*time-step*)\n",
        "* Se penaliza con 10 puntos (-10) por intentar recoger un pasajero o dejarlo en un destino que no era el indicado.\n",
        "* El cuadradito relleno de amarillo representa el taxi cuando no lleva pasajeros y se pone verde cuando lleva un pasajero.\n",
        "* El *pipe* (símbolo | ) representa una pared o muro, la misma no puede ser atravesada por el taxi.\n",
        "* Hay cuatro (4) ubicaciones idenficadas con distintas letras. \n",
        "\n",
        "R, G, Y, B  son posibles destino de recogida y llegada/destino de pasajeros. \n",
        "\n",
        "La letra en azul representa una ubicación actual para recoger un pasajero, y la letra lila o púrpura representa el destino del pasajero.\n",
        "\n"
      ]
    },
    {
      "cell_type": "markdown",
      "metadata": {
        "id": "IB0DZn3xGd6p",
        "colab_type": "text"
      },
      "source": [
        "Veamos que otras cosas podemos hacer con *environment*"
      ]
    },
    {
      "cell_type": "code",
      "metadata": {
        "id": "VEwfMWJiGPHd",
        "colab_type": "code",
        "outputId": "61b448f7-6eb6-4e3b-c54a-5d3cc4062870",
        "colab": {
          "base_uri": "https://localhost:8080/",
          "height": 187
        }
      },
      "source": [
        "env.reset() # me \"resetea\" el ambiente a uno nuevo, uno aleatorio\n",
        "env.render() # muestra la imagen del ambiente\n",
        "\n",
        "print(\"Action Space {}\".format(env.action_space)) # cuántas acciones puede tomar el agente\n",
        "print(\"State Space {}\".format(env.observation_space)) # cuántos espacios o estados s puede tomar el agente\n"
      ],
      "execution_count": 0,
      "outputs": [
        {
          "output_type": "stream",
          "text": [
            "+---------+\n",
            "|R: | : :\u001b[35mG\u001b[0m|\n",
            "| : : : : |\n",
            "| : : : : |\n",
            "| | : | : |\n",
            "|Y|\u001b[43m \u001b[0m: |\u001b[34;1mB\u001b[0m: |\n",
            "+---------+\n",
            "\n",
            "Action Space Discrete(6)\n",
            "State Space Discrete(500)\n"
          ],
          "name": "stdout"
        }
      ]
    },
    {
      "cell_type": "markdown",
      "metadata": {
        "id": "tH17yrOAGzJt",
        "colab_type": "text"
      },
      "source": [
        "Como nos muestra la salida del *print* tenemos un espacio de acción de tamaño 6 (seis) y un espacio de estados de tamaño 500. \n",
        "\n",
        "Los 500 estados posibles corresponden a la codificación que incluye: ubicación del taxi, ubicación del pasajero y ubicación destino del pasajero. (ver actividad nro 2))\n",
        "\n",
        "Nuestro algoritmo de aprendizaje por refuerzo (RL) no necesita más que estas dos cosas: el conjunto de acciones posibles y el conjunto de estados posibles. \n",
        "\n",
        "Necesitamos identificar cada estado de forma unívoca, asignándole un número único al estado (un ID) y que el algortimo RL elija algunas de las acciones posibles a tomar, que están etiquetadas desde el 0 cero al 5 cinco, donde:\n",
        "\n",
        "\n",
        "* 0 = sur\n",
        "* 1 = nore\n",
        "* 2 = este\n",
        "* 3 = oeste\n",
        "* 4 = *pickup* o recoger pasajero\n",
        "* 5 = *dropoff* o dejar en su destino al pasajero\n"
      ]
    },
    {
      "cell_type": "markdown",
      "metadata": {
        "id": "FhkcKjSdAPM-",
        "colab_type": "text"
      },
      "source": [
        "En cada unidad de tiempo discreta de nuestro simulador, según una acción ejecutada sobre el ambiente, el mismo regresa los siguientes elementos:"
      ]
    },
    {
      "cell_type": "code",
      "metadata": {
        "id": "b6JrgiRbAKvQ",
        "colab_type": "code",
        "outputId": "6b74c3d9-8f28-4410-b2fd-57ae24a5a5e1",
        "colab": {
          "base_uri": "https://localhost:8080/",
          "height": 34
        }
      },
      "source": [
        "env.step(3)"
      ],
      "execution_count": 0,
      "outputs": [
        {
          "output_type": "execute_result",
          "data": {
            "text/plain": [
              "(433, -1, False, {'prob': 1.0})"
            ]
          },
          "metadata": {
            "tags": []
          },
          "execution_count": 22
        }
      ]
    },
    {
      "cell_type": "markdown",
      "metadata": {
        "id": "GjKeUoTZAdyZ",
        "colab_type": "text"
      },
      "source": [
        "* **Observación**  (objecto): el estado del ambiente o un objeto específico del ambiente que representa la observación del mismo.\n",
        "* **Recompensa** o Reward (float): es la recompensa alcanzada por la acción previa.\n",
        "\n",
        "* **Done** (boolean): si es momento de \"resetear el ambiente\". La mayoría de las tareas en varios ambientes si el valor done = True indica que el episodio ha terminado (perdiste una vida en un video juego, por ejemplo) o se alcanzó un objetivo (dejamos pasajero en su destino, para este ejemplo).\n",
        "* **Info** (dict): podemos ignorar este atributo, brinda información de diagnóstico para debugging. No hay que usar nada de esto para aprendizaje/entrenamiento.\n",
        "\n",
        "#### [ACTIVIDAD] Detalle cuáles son los valores de recompensa para este problema\n",
        "\n",
        "Vea la [info del entorno](https://gym.openai.com/envs/Taxi-v2/)"
      ]
    },
    {
      "cell_type": "markdown",
      "metadata": {
        "id": "VCia6KknK-6p",
        "colab_type": "text"
      },
      "source": [
        "RESPUESTA\n"
      ]
    },
    {
      "cell_type": "markdown",
      "metadata": {
        "id": "UZq-Lh8OLDJG",
        "colab_type": "text"
      },
      "source": [
        "Veamos como está codificado el estado y el ambiente del Taxi."
      ]
    },
    {
      "cell_type": "code",
      "metadata": {
        "id": "tNFzJtaxHfS9",
        "colab_type": "code",
        "outputId": "a86cda7d-2874-4062-8e88-82328d67b28a",
        "colab": {
          "base_uri": "https://localhost:8080/",
          "height": 170
        }
      },
      "source": [
        "state = env.encode(3, 1, 1, 0) # (fila de posición del taxi, columna de posición del taxi, índice del pasajero, índice del destino)\n",
        "print(\"State:\", state)\n",
        "\n",
        "env.s = state\n",
        "env.render()"
      ],
      "execution_count": 0,
      "outputs": [
        {
          "output_type": "stream",
          "text": [
            "State: 324\n",
            "+---------+\n",
            "|\u001b[35mR\u001b[0m: | : :\u001b[34;1mG\u001b[0m|\n",
            "| : : : : |\n",
            "| : : : : |\n",
            "| |\u001b[43m \u001b[0m: | : |\n",
            "|Y| : |B: |\n",
            "+---------+\n",
            "  (West)\n"
          ],
          "name": "stdout"
        }
      ]
    },
    {
      "cell_type": "markdown",
      "metadata": {
        "id": "tbwlNWkAHulC",
        "colab_type": "text"
      },
      "source": [
        "#### **[ACTIVIDAD]** Modifique la primer línea del siguiente script para ver dónde es la posición (3,4) del mapa y la (0,0)\n"
      ]
    },
    {
      "cell_type": "code",
      "metadata": {
        "id": "oxVAWT4BH4VH",
        "colab_type": "code",
        "outputId": "ca3ce9bb-366a-4306-c6f8-08120555ad73",
        "colab": {
          "base_uri": "https://localhost:8080/",
          "height": 170
        }
      },
      "source": [
        "state = env.encode(0, 0, 2, 0) # (taxi row, taxi column, passenger index, destination index)\n",
        "print(\"State:\", state) # muestra el número de estado, una codificación.\n",
        "\n",
        "env.s = state\n",
        "env.render() # nos muestra una representación gráfica del estado."
      ],
      "execution_count": 0,
      "outputs": [
        {
          "output_type": "stream",
          "text": [
            "State: 8\n",
            "+---------+\n",
            "|\u001b[35m\u001b[43mR\u001b[0m\u001b[0m: | : :G|\n",
            "| : : : : |\n",
            "| : : : : |\n",
            "| | : | : |\n",
            "|\u001b[34;1mY\u001b[0m| : |B: |\n",
            "+---------+\n",
            "  (West)\n"
          ],
          "name": "stdout"
        }
      ]
    },
    {
      "cell_type": "markdown",
      "metadata": {
        "id": "30iqoY9mCC54",
        "colab_type": "text"
      },
      "source": [
        "**[ACTIVIDAD]** Modifique el siguiente script, verifique cuáles son los valores posibles de los índices de pasajero y destino. ¿Qué representan.?"
      ]
    },
    {
      "cell_type": "code",
      "metadata": {
        "id": "WgnnB4XTB_-x",
        "colab_type": "code",
        "outputId": "91d94f9b-73f3-4468-e2ff-16944b4c081f",
        "colab": {
          "base_uri": "https://localhost:8080/",
          "height": 170
        }
      },
      "source": [
        "state = env.encode(0, 0, 2, 0)# (fila de posición del taxi, columna de posición del taxi, índice del pasajero, índice del destino)\n",
        "print(\"State:\", state)\n",
        "env.s = state\n",
        "env.render()"
      ],
      "execution_count": 0,
      "outputs": [
        {
          "output_type": "stream",
          "text": [
            "State: 8\n",
            "+---------+\n",
            "|\u001b[35m\u001b[43mR\u001b[0m\u001b[0m: | : :G|\n",
            "| : : : : |\n",
            "| : : : : |\n",
            "| | : | : |\n",
            "|\u001b[34;1mY\u001b[0m| : |B: |\n",
            "+---------+\n",
            "  (West)\n"
          ],
          "name": "stdout"
        }
      ]
    },
    {
      "cell_type": "code",
      "metadata": {
        "id": "bZOiJLl6JNkI",
        "colab_type": "code",
        "colab": {}
      },
      "source": [
        ""
      ],
      "execution_count": 0,
      "outputs": []
    },
    {
      "cell_type": "markdown",
      "metadata": {
        "id": "vevUF5vNKUEl",
        "colab_type": "text"
      },
      "source": [
        "## Comportamiento del agente aleatorio (random search)\n",
        "\n",
        "Ejecute el siguiente bloque de código"
      ]
    },
    {
      "cell_type": "code",
      "metadata": {
        "id": "EA-l1zcTCaLr",
        "colab_type": "code",
        "colab": {}
      },
      "source": [
        "env.s = 329  # estado desde el cual arranca. "
      ],
      "execution_count": 0,
      "outputs": []
    },
    {
      "cell_type": "markdown",
      "metadata": {
        "id": "rxSfpsoTCci-",
        "colab_type": "text"
      },
      "source": [
        "#### **[ACTIVIDAD]**  Visualice el estado. Reutilice código anterior."
      ]
    },
    {
      "cell_type": "code",
      "metadata": {
        "id": "ybjTfwxvCn2h",
        "colab_type": "code",
        "colab": {}
      },
      "source": [
        "# coloque aquí el código y ejecute"
      ],
      "execution_count": 0,
      "outputs": []
    },
    {
      "cell_type": "markdown",
      "metadata": {
        "id": "_I_6jFrrCx6p",
        "colab_type": "text"
      },
      "source": [
        "Inicializamos variables\n"
      ]
    },
    {
      "cell_type": "code",
      "metadata": {
        "id": "WB28nmFaCz_1",
        "colab_type": "code",
        "colab": {}
      },
      "source": [
        "epochs = 0 # contador de iteraciones\n",
        "penalties, reward = 0, 0 # penalidades y recompensas\n",
        "frames = [] # para la animación \n",
        "rewards = [] # guardamos la recompensa obtenida por cada acción\n",
        "done = False"
      ],
      "execution_count": 0,
      "outputs": []
    },
    {
      "cell_type": "markdown",
      "metadata": {
        "id": "u_EDLG-KJD5T",
        "colab_type": "text"
      },
      "source": [
        "El siguiente código muestra la ejecución de un agente de búsqueda aleatoria.\n",
        "\n",
        "\n"
      ]
    },
    {
      "cell_type": "code",
      "metadata": {
        "id": "iFNhosdWKUOx",
        "colab_type": "code",
        "outputId": "5836279b-cd27-4109-a4ae-fb529796fe60",
        "colab": {
          "base_uri": "https://localhost:8080/",
          "height": 51
        }
      },
      "source": [
        "# mientras no llegue al objetivo\n",
        "while not done:\n",
        "    action = env.action_space.sample() # elige la próxima acción de forma aleatoria\n",
        "    state, reward, done, info = env.step(action) # se ejecuta la acción sobre el ambiente\n",
        "\n",
        "    if reward == -10:  # si lo penalizan, suma una penalización.\n",
        "        penalties += 1\n",
        "    \n",
        "    rewards.append({'epoch':epochs,'reward':reward}) #guarda el nro de iteración y valor de recompensa obtenida.\n",
        "    \n",
        "    # Guarda información de cada frame en un diccionario, para posterior animación\n",
        "    frames.append({\n",
        "        'frame': env.render(mode='ansi'),\n",
        "        'state': state,\n",
        "        'action': action,\n",
        "        'reward': reward\n",
        "        }\n",
        "    )\n",
        "\n",
        "    epochs += 1 # incrementa número de iteración\n",
        "    \n",
        "    \n",
        "print(\"Cuantos pasos o epochs o time-steps corrió: {}\".format(epochs))\n",
        "print(\"Penalidades (cuántas veces fue penalizado): {}\".format(penalties))"
      ],
      "execution_count": 0,
      "outputs": [
        {
          "output_type": "stream",
          "text": [
            "Cuantos pasos o epochs o time-steps corrió: 1826\n",
            "Penalidades (cuántas veces fue penalizado): 575\n"
          ],
          "name": "stdout"
        }
      ]
    },
    {
      "cell_type": "markdown",
      "metadata": {
        "id": "RK19YF_dYPLl",
        "colab_type": "text"
      },
      "source": [
        "A continuación visualizamos esas recompensas otorgadas por cada episodio de ejecución del agente."
      ]
    },
    {
      "cell_type": "code",
      "metadata": {
        "id": "40tuakahWrmD",
        "colab_type": "code",
        "outputId": "dfd8cd6e-e9e2-4808-af09-c687dcaf6add",
        "colab": {
          "base_uri": "https://localhost:8080/",
          "height": 286
        }
      },
      "source": [
        "df = pd.DataFrame(rewards)\n",
        "\n",
        "plt.plot(df['reward'])\n",
        "# agregue título al gráfico\n",
        "# agregue etiqueta al eje x y al eje y\n"
      ],
      "execution_count": 0,
      "outputs": [
        {
          "output_type": "execute_result",
          "data": {
            "text/plain": [
              "[<matplotlib.lines.Line2D at 0x7f92055b0cc0>]"
            ]
          },
          "metadata": {
            "tags": []
          },
          "execution_count": 30
        },
        {
          "output_type": "display_data",
          "data": {
            "image/png": "[encoded data removed]",
            "text/plain": [
              "<Figure size 432x288 with 1 Axes>"
            ]
          },
          "metadata": {
            "tags": []
          }
        }
      ]
    },
    {
      "cell_type": "markdown",
      "metadata": {
        "id": "K1oXrx7ILvTC",
        "colab_type": "text"
      },
      "source": [
        "#### **[ACTIVIDAD]** \n",
        "\n",
        "Agregue título al gráfico anterior y etiqueta a los ejes x e y usando las funciones de matplotlib usando las funciones \n",
        "\n",
        "* xlabel(\"Nombre del eje x\")\n",
        "* ylabel(\"Nombre del eje y\")\n",
        "* title(\"Título del gráfico\")\n"
      ]
    },
    {
      "cell_type": "markdown",
      "metadata": {
        "id": "jMdFtWWiX1q-",
        "colab_type": "text"
      },
      "source": [
        "El siguiente gráfico muestra la suma acumulada de las recompensas a través del tiempo. Observamos claramente una tendencia negativa, pues el agente ha sido penalizado (recompensa negativa) la mayor parte del tiempo."
      ]
    },
    {
      "cell_type": "code",
      "metadata": {
        "id": "HlHSkXH3XzT0",
        "colab_type": "code",
        "outputId": "f0f96769-b5f6-4ec4-91fd-a269c367c0c3",
        "colab": {
          "base_uri": "https://localhost:8080/",
          "height": 286
        }
      },
      "source": [
        "plt.plot(df['reward'].cumsum())"
      ],
      "execution_count": 0,
      "outputs": [
        {
          "output_type": "execute_result",
          "data": {
            "text/plain": [
              "[<matplotlib.lines.Line2D at 0x7f920539a7f0>]"
            ]
          },
          "metadata": {
            "tags": []
          },
          "execution_count": 31
        },
        {
          "output_type": "display_data",
          "data": {
            "image/png": "[encoded data removed]",
            "text/plain": [
              "<Figure size 432x288 with 1 Axes>"
            ]
          },
          "metadata": {
            "tags": []
          }
        }
      ]
    },
    {
      "cell_type": "markdown",
      "metadata": {
        "id": "3GIOONAXKbX7",
        "colab_type": "text"
      },
      "source": [
        "Ejecute el siguiente bloque para observar las acciones del agente y el ambiente"
      ]
    },
    {
      "cell_type": "code",
      "metadata": {
        "id": "Db2559BuKYXO",
        "colab_type": "code",
        "colab": {}
      },
      "source": [
        "from IPython.display import clear_output\n",
        "from time import sleep\n",
        "\n",
        "# función print_frames\n",
        "def print_frames(frames):\n",
        "    for i, frame in enumerate(frames):\n",
        "        clear_output(wait=True)\n",
        "        print(frame['frame'].getvalue())\n",
        "        print(f\"Timestep: {i + 1}\")\n",
        "        print(f\"State: {frame['state']}\")\n",
        "        print(f\"Action: {frame['action']}\")\n",
        "        print(f\"Reward: {frame['reward']}\")\n",
        "        sleep(.1)\n",
        "        \n",
        "#print_frames(frames) # descomente para llamar a la función print_frames o utilice un bloque de código aparte."
      ],
      "execution_count": 0,
      "outputs": []
    },
    {
      "cell_type": "markdown",
      "metadata": {
        "id": "GKLfPCBWU5d3",
        "colab_type": "text"
      },
      "source": [
        "Para nada bueno el desempeño del agente. A nuestro agente aleatorio le toma miles de *timesteps* o *epochs* cometiendo muchas acciones erróneas (es penalizado muchas veces) para tan sólo acercar a un pasajero al destino.\n",
        "\n"
      ]
    },
    {
      "cell_type": "markdown",
      "metadata": {
        "id": "rKBmnzlKYeDU",
        "colab_type": "text"
      },
      "source": [
        "## Aprendizaje por refuerzo con Q-learning\n",
        "\n"
      ]
    },
    {
      "cell_type": "markdown",
      "metadata": {
        "id": "XAlHkzlJYzbr",
        "colab_type": "text"
      },
      "source": [
        "Inicializamos tabla Q con ceros."
      ]
    },
    {
      "cell_type": "code",
      "metadata": {
        "id": "2ZEIB3CqYyge",
        "colab_type": "code",
        "colab": {}
      },
      "source": [
        "import numpy as np\n",
        "q_table = np.zeros([env.observation_space.n, env.action_space.n])"
      ],
      "execution_count": 0,
      "outputs": []
    },
    {
      "cell_type": "markdown",
      "metadata": {
        "id": "DfCkfn5DNs2z",
        "colab_type": "text"
      },
      "source": [
        "Entrenamos al agente, es decir, *completamos* la tabla Q con valores que se ajusten a una política.\n",
        "\n",
        "**Hiperparámetros**"
      ]
    },
    {
      "cell_type": "markdown",
      "metadata": {
        "id": "hpMTpELTYOFI",
        "colab_type": "text"
      },
      "source": [
        "$\\alpha$ es el coeficiente de aprendizaje en Q-learning, página 873 del libro\n",
        "\n",
        "$\\gamma$ el factor de descuento \n",
        "\n",
        "$\\epsilon$ ¿para qué usamos este coeficiente en el código.\n",
        "\n",
        "\n",
        "\n"
      ]
    },
    {
      "cell_type": "markdown",
      "metadata": {
        "id": "Sir29BebYu7U",
        "colab_type": "text"
      },
      "source": [
        "Observe las líneas 24 a la 27 y responda la actividad 2) "
      ]
    },
    {
      "cell_type": "markdown",
      "metadata": {
        "id": "kpcJrkfcJuMe",
        "colab_type": "text"
      },
      "source": [
        "## [Algoritmo Q-Learning](https://es.wikipedia.org/wiki/Q-learning)\n",
        "\n",
        "![alt](https://wikimedia.org/api/rest_v1/media/math/render/svg/59db58edf1222b292e40706e503ed5974553606b)"
      ]
    },
    {
      "cell_type": "code",
      "metadata": {
        "id": "juiuys_cYnmC",
        "colab_type": "code",
        "outputId": "7e82cad6-0a4e-4537-9a09-dd4d07a06609",
        "colab": {
          "base_uri": "https://localhost:8080/",
          "height": 102
        }
      },
      "source": [
        "%%time\n",
        "\"\"\"Entrenando el agente\"\"\"\n",
        "\n",
        "import random\n",
        "from IPython.display import clear_output\n",
        "\n",
        "# Hiperparámetros\n",
        "alpha = 0.1 # tasa de aprendizaje en Q-learning\n",
        "gamma = 0.6 # factor de descuento gamma,\n",
        "epsilon = 0.1 # probabilidad \n",
        "max_iter = 10000 #100001\n",
        "# para graficar métricas\n",
        "all_epochs = []\n",
        "all_penalties = []\n",
        "rewards = []\n",
        "\n",
        "for i in range(1, max_iter):\n",
        "    state = env.reset()\n",
        "\n",
        "    epochs, penalties, reward, = 0, 0, 0\n",
        "    done = False\n",
        "    \n",
        "    while not done:\n",
        "        if random.uniform(0, 1) < epsilon:\n",
        "            action = env.action_space.sample() \n",
        "        else:\n",
        "            action = np.argmax(q_table[state]) \n",
        "\n",
        "        next_state, reward, done, info = env.step(action) \n",
        "        \n",
        "        old_value = q_table[state, action]\n",
        "        \n",
        "        next_max = np.max(q_table[next_state])\n",
        "        \n",
        "        #new_value =  old_value + alpha * (old_value- reward - gamma * next_max)\n",
        "        new_value = (1 - alpha) * old_value + alpha * (reward + gamma * next_max)\n",
        "        \n",
        "        q_table[state, action] = new_value\n",
        "\n",
        "        if reward == -10:\n",
        "            penalties += 1\n",
        "            \n",
        "        rewards.append({'epoch':epochs,'reward':reward})\n",
        "        \n",
        "        state = next_state\n",
        "        epochs += 1\n",
        "        \n",
        "    if i % 100 == 0:\n",
        "        clear_output(wait=True)\n",
        "        print(f\"Episode: {i}\")\n",
        "\n",
        "print(\"Training finished.\\n\")"
      ],
      "execution_count": 0,
      "outputs": [
        {
          "output_type": "stream",
          "text": [
            "Episode: 9900\n",
            "Training finished.\n",
            "\n",
            "CPU times: user 5.29 s, sys: 203 ms, total: 5.49 s\n",
            "Wall time: 5.41 s\n"
          ],
          "name": "stdout"
        }
      ]
    },
    {
      "cell_type": "markdown",
      "metadata": {
        "id": "Wo5pl2TqZDxB",
        "colab_type": "text"
      },
      "source": [
        "## Evaluemos el agente\n",
        "\n"
      ]
    },
    {
      "cell_type": "markdown",
      "metadata": {
        "id": "MbcCJrK5Nwxd",
        "colab_type": "text"
      },
      "source": [
        "Dada la tabla Q aprendida, la ponemos a prueba en el ambiente.\n",
        "\n",
        "Política óptima:"
      ]
    },
    {
      "cell_type": "markdown",
      "metadata": {
        "id": "G3Ie8w9TPWFy",
        "colab_type": "text"
      },
      "source": [
        "$\\pi^{*}(s) = arg max_a Q(s,a)$"
      ]
    },
    {
      "cell_type": "code",
      "metadata": {
        "id": "Y5w5cUe1ZGmu",
        "colab_type": "code",
        "colab": {}
      },
      "source": [
        "\n",
        "total_epochs, total_penalties = 0, 0\n",
        "episodes = 100\n",
        "rewards3 = []\n",
        "frames = [] # para la animación\n",
        "\n",
        "for _ in range(episodes):\n",
        "    state = env.reset()\n",
        "    epochs, penalties, reward = 0, 0, 0\n",
        "    \n",
        "    done = False\n",
        "    \n",
        "    while not done: # mientras el taxi no llegue a destino.\n",
        "        action = np.argmax(q_table[state])\n",
        "        state, reward, done, info = env.step(action)\n",
        "\n",
        "        if reward == -10:\n",
        "            penalties += 1\n",
        "\n",
        "        epochs += 1\n",
        "        rewards3.append({'epoch':epochs,'reward':reward})\n",
        "        \n",
        "        # frames para animacion\n",
        "        frames.append({\n",
        "            'frame': env.render(mode='ansi'),\n",
        "            'state': state,\n",
        "            'action': action,\n",
        "            'reward': reward\n",
        "            }\n",
        "        )\n",
        "\n",
        "    total_penalties += penalties\n",
        "    total_epochs += epochs\n",
        "\n",
        "print(f\"Resultados luego de  {episodes} episodios:\")\n",
        "print(f\"Promedio de timestemps o iteraciones por episodio: {total_epochs / episodes}\")\n",
        "print(f\"Promedio de penalidades por episodio: {total_penalties / episodes}\")"
      ],
      "execution_count": 0,
      "outputs": []
    },
    {
      "cell_type": "markdown",
      "metadata": {
        "id": "wdvp2VEVOKpt",
        "colab_type": "text"
      },
      "source": [
        "Ejecute el siguiente bloque de código si desea visualizar las acciones ejecutadas por el agente. \n",
        "**Nota**: puede demorar un poco.\n"
      ]
    },
    {
      "cell_type": "code",
      "metadata": {
        "id": "k_h5EkUFbTCg",
        "colab_type": "code",
        "colab": {}
      },
      "source": [
        "# print_frames(frames)"
      ],
      "execution_count": 0,
      "outputs": []
    },
    {
      "cell_type": "markdown",
      "metadata": {
        "id": "nuqzK4T1i9n6",
        "colab_type": "text"
      },
      "source": [
        "#### [ACTIVIDAD] Grafique la suma acumulada de recompensas a través del tiempo (epochs)"
      ]
    },
    {
      "cell_type": "code",
      "metadata": {
        "id": "10C6PJuxZme4",
        "colab_type": "code",
        "colab": {}
      },
      "source": [
        ""
      ],
      "execution_count": 0,
      "outputs": []
    },
    {
      "cell_type": "markdown",
      "metadata": {
        "id": "R9z4EaagMalz",
        "colab_type": "text"
      },
      "source": [
        "# ACTIVIDADES\n",
        "\n",
        "## 1) Explique, detalle, como se calcula los 500 estados posibles del problema del *Taxi*. Desglose cada término y valor implicado."
      ]
    },
    {
      "cell_type": "markdown",
      "metadata": {
        "id": "dnsoHwiLNOhj",
        "colab_type": "text"
      },
      "source": [
        "**ESCRIBA AQUI SU RESPUESTA A LA CONSIGNA**\n",
        "\n"
      ]
    },
    {
      "cell_type": "markdown",
      "metadata": {
        "id": "i7-k4damZBdY",
        "colab_type": "text"
      },
      "source": [
        "## 2) En el código de Q-learning presentado. \n",
        "\n",
        "2.1 Explique que hace las líneas de código entre 24 -27 . Pista: explorar vs explotar.\n",
        "\n",
        "\n"
      ]
    },
    {
      "cell_type": "markdown",
      "metadata": {
        "id": "X1eHQ69MZTL5",
        "colab_type": "text"
      },
      "source": [
        "2.2 ¿Qué pasaría si el valor de $ \\epsilon $ fuera 1?"
      ]
    },
    {
      "cell_type": "markdown",
      "metadata": {
        "id": "c_qMqKjGdYcZ",
        "colab_type": "text"
      },
      "source": [
        "\n",
        "\n",
        "## 3.1) Basado en los resultados anteriores, indique cuál agente funcionó mejor (aleatorio vs Q-learning) y justifique.\n",
        "\n"
      ]
    },
    {
      "cell_type": "markdown",
      "metadata": {
        "id": "mrrwCcEbia2b",
        "colab_type": "text"
      },
      "source": [
        "**ESCRIBA AQUI SU TEXTO DE RESPUESTA A LA CONSIGNA "
      ]
    },
    {
      "cell_type": "markdown",
      "metadata": {
        "id": "dpYCGU2RV7dV",
        "colab_type": "text"
      },
      "source": [
        "## 3.2) Compare para este entorno el desempeño y funcionamiento de iteración de valores y políticas vs Q-learning. Utilice código del laboratorio anterior. Escriba sus conclusiones, mientras más completas, mejor."
      ]
    },
    {
      "cell_type": "markdown",
      "metadata": {
        "id": "Yaxj9gr1WSj8",
        "colab_type": "text"
      },
      "source": [
        ""
      ]
    },
    {
      "cell_type": "code",
      "metadata": {
        "id": "YvD1YCrCWTH9",
        "colab_type": "code",
        "colab": {}
      },
      "source": [
        ""
      ],
      "execution_count": 0,
      "outputs": []
    },
    {
      "cell_type": "code",
      "metadata": {
        "id": "UN7cpe_YSZ7q",
        "colab_type": "code",
        "colab": {}
      },
      "source": [
        ""
      ],
      "execution_count": 0,
      "outputs": []
    },
    {
      "cell_type": "code",
      "metadata": {
        "id": "T8lGTr54SaJz",
        "colab_type": "code",
        "colab": {}
      },
      "source": [
        ""
      ],
      "execution_count": 0,
      "outputs": []
    },
    {
      "cell_type": "markdown",
      "metadata": {
        "id": "WmOmPFlqiU_u",
        "colab_type": "text"
      },
      "source": [
        "## [ OPCIONAL ] 4) Búsqueda en grilla\n",
        "\n",
        "Realice una búsqueda en grilla para determinar los mejores valores para alpha, gamma y epsilon, entre los valores siguientes valores.\n",
        "\n",
        "\n",
        "Valores de alpha a considerar: {0.1, 0.3 ,0.6}\n",
        "\n",
        "Valores de gamma a considerar:  {0.1,0.5, 0.9}\n",
        "\n",
        "Valores de epsilon a considerar: {0.1,0.5, 0.9}\n",
        "\n",
        "\n",
        "* Cree el script para ejecutar este experimento.\n",
        "\n",
        "* Determine los valores de rendimiento a guardar de cada experimento (recompensa promedio, penalización promedio, etc)\n",
        "\n",
        "* Utilice la cantidad de bloques de código y texto que crea necesarios\n",
        "\n"
      ]
    },
    {
      "cell_type": "code",
      "metadata": {
        "id": "9wB2KhRsd0Bs",
        "colab_type": "code",
        "colab": {}
      },
      "source": [
        ""
      ],
      "execution_count": 0,
      "outputs": []
    },
    {
      "cell_type": "markdown",
      "metadata": {
        "id": "fvkx0OtGSuSh",
        "colab_type": "text"
      },
      "source": [
        ""
      ]
    },
    {
      "cell_type": "code",
      "metadata": {
        "id": "3bfhYrLTdREu",
        "colab_type": "code",
        "colab": {}
      },
      "source": [
        ""
      ],
      "execution_count": 0,
      "outputs": []
    },
    {
      "cell_type": "markdown",
      "metadata": {
        "id": "_sweAdIcVLuR",
        "colab_type": "text"
      },
      "source": [
        "# Referencias\n",
        "\n",
        "Este laboratorio fue inspirado gracias a las siguientes referencias:\n",
        "\n",
        "* Open AI Gym (https://gym.openai.com/)\n",
        "* Taxi environment in Open AI Gym \n",
        " * https://gym.openai.com/envs/Taxi-v2/\n",
        " * https://github.com/openai/gym/blob/master/gym/envs/toy_text/taxi.py\n",
        "* Q-learning from scratch https://www.learndatasci.com/tutorials/reinforcement-q-learning-scratch-python-openai-gym/\n",
        "* Q-learning, wikipedia https://es.wikipedia.org/wiki/Q-learning\n",
        "\n"
      ]
    }
  ]
}